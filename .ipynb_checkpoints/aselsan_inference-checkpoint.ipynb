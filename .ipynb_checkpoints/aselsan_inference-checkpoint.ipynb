{
 "cells": [
  {
   "cell_type": "code",
   "execution_count": null,
   "metadata": {},
   "outputs": [],
   "source": [
    "import os\n",
    "import glob\n",
    "import pandas as pd\n",
    "os.listdir('./')"
   ]
  },
  {
   "cell_type": "code",
   "execution_count": null,
   "metadata": {},
   "outputs": [],
   "source": [
    "def get_image_path_and_annotations(folder = './sentetik_data/train/'):\n",
    "\n",
    "\n",
    "    result = []\n",
    "\n",
    "    for class_name in ['person', 'animal', 'vehicle', 'background']:\n",
    "\n",
    "        temp_folder = folder + f'{class_name}/' + '*.jpg'\n",
    "        imgs = glob.glob(temp_folder)\n",
    "\n",
    "        for img in imgs:\n",
    "\n",
    "            r = {}\n",
    "            r['img_path'] = img\n",
    "            r['class_name'] = img.split('/')[-1].split('_')[0]\n",
    "            result.append(r.copy())\n",
    "        \n",
    "    return pd.DataFrame(result)\n",
    "\n",
    "train_imgs = get_image_path_and_annotations()\n",
    "val_imgs = get_image_path_and_annotations('./sentetik_data/val/')\n",
    "\n",
    "print([len(train_imgs), len(val_imgs)])"
   ]
  },
  {
   "cell_type": "code",
   "execution_count": null,
   "metadata": {},
   "outputs": [],
   "source": [
    "default_model ='lite-model_yolo-v5-tflite_tflite_model_1.tflite'"
   ]
  },
  {
   "cell_type": "code",
   "execution_count": null,
   "metadata": {},
   "outputs": [],
   "source": [
    "import glob\n",
    "import os\n",
    "import time\n",
    "import numpy as np\n",
    "import cv2\n",
    "\n",
    "from object_detection.object_detection import DetectionModel"
   ]
  },
  {
   "cell_type": "code",
   "execution_count": null,
   "metadata": {},
   "outputs": [],
   "source": [
    "model = DetectionModel(model_weights=f'./object_detection/models/{default_model}',\n",
    "                           confidence_threshold=0.5, nms_threshold=0.5)\n",
    "    "
   ]
  },
  {
   "cell_type": "code",
   "execution_count": null,
   "metadata": {},
   "outputs": [],
   "source": [
    "founds = []\n",
    "for N, row in val_imgs.iterrows():\n",
    "\n",
    "    if np.mod(N, 50) == 0:\n",
    "        print([N, val_imgs.shape[0]])\n",
    "\n",
    "    img = cv2.imread(row['img_path'])\n",
    "    detections = model.detect(frame=img[:,:,::-1])\n",
    "    objects = detections.get_ids(ignore_other=True)\n",
    "\n",
    "    founds.append(objects.copy())\n"
   ]
  }
 ],
 "metadata": {
  "interpreter": {
   "hash": "31f2aee4e71d21fbe5cf8b01ff0e069b9275f58929596ceb00d14d90e3e16cd6"
  },
  "kernelspec": {
   "display_name": "Python 3 (ipykernel)",
   "language": "python",
   "name": "python3"
  },
  "language_info": {
   "codemirror_mode": {
    "name": "ipython",
    "version": 3
   },
   "file_extension": ".py",
   "mimetype": "text/x-python",
   "name": "python",
   "nbconvert_exporter": "python",
   "pygments_lexer": "ipython3",
   "version": "3.7.5"
  }
 },
 "nbformat": 4,
 "nbformat_minor": 2
}
